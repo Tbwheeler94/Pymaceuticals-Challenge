{
 "cells": [
  {
   "cell_type": "markdown",
   "metadata": {},
   "source": [
    "## Observations and Insights"
   ]
  },
  {
   "cell_type": "markdown",
   "metadata": {},
   "source": []
  },
  {
   "cell_type": "code",
   "execution_count": 3,
   "metadata": {},
   "outputs": [],
   "source": [
    "%matplotlib inline"
   ]
  },
  {
   "cell_type": "code",
   "execution_count": 253,
   "metadata": {},
   "outputs": [
    {
     "data": {
      "text/html": [
       "<div>\n",
       "<style scoped>\n",
       "    .dataframe tbody tr th:only-of-type {\n",
       "        vertical-align: middle;\n",
       "    }\n",
       "\n",
       "    .dataframe tbody tr th {\n",
       "        vertical-align: top;\n",
       "    }\n",
       "\n",
       "    .dataframe thead th {\n",
       "        text-align: right;\n",
       "    }\n",
       "</style>\n",
       "<table border=\"1\" class=\"dataframe\">\n",
       "  <thead>\n",
       "    <tr style=\"text-align: right;\">\n",
       "      <th></th>\n",
       "      <th>Mouse ID</th>\n",
       "      <th>Drug Regimen</th>\n",
       "      <th>Sex</th>\n",
       "      <th>Age_months</th>\n",
       "      <th>Weight (g)</th>\n",
       "      <th>Timepoint</th>\n",
       "      <th>Tumor Volume (mm3)</th>\n",
       "      <th>Metastatic Sites</th>\n",
       "    </tr>\n",
       "  </thead>\n",
       "  <tbody>\n",
       "    <tr>\n",
       "      <th>0</th>\n",
       "      <td>k403</td>\n",
       "      <td>Ramicane</td>\n",
       "      <td>Male</td>\n",
       "      <td>21</td>\n",
       "      <td>16</td>\n",
       "      <td>0</td>\n",
       "      <td>45.000000</td>\n",
       "      <td>0</td>\n",
       "    </tr>\n",
       "    <tr>\n",
       "      <th>1</th>\n",
       "      <td>k403</td>\n",
       "      <td>Ramicane</td>\n",
       "      <td>Male</td>\n",
       "      <td>21</td>\n",
       "      <td>16</td>\n",
       "      <td>5</td>\n",
       "      <td>38.825898</td>\n",
       "      <td>0</td>\n",
       "    </tr>\n",
       "    <tr>\n",
       "      <th>2</th>\n",
       "      <td>k403</td>\n",
       "      <td>Ramicane</td>\n",
       "      <td>Male</td>\n",
       "      <td>21</td>\n",
       "      <td>16</td>\n",
       "      <td>10</td>\n",
       "      <td>35.014271</td>\n",
       "      <td>1</td>\n",
       "    </tr>\n",
       "    <tr>\n",
       "      <th>3</th>\n",
       "      <td>k403</td>\n",
       "      <td>Ramicane</td>\n",
       "      <td>Male</td>\n",
       "      <td>21</td>\n",
       "      <td>16</td>\n",
       "      <td>15</td>\n",
       "      <td>34.223992</td>\n",
       "      <td>1</td>\n",
       "    </tr>\n",
       "    <tr>\n",
       "      <th>4</th>\n",
       "      <td>k403</td>\n",
       "      <td>Ramicane</td>\n",
       "      <td>Male</td>\n",
       "      <td>21</td>\n",
       "      <td>16</td>\n",
       "      <td>20</td>\n",
       "      <td>32.997729</td>\n",
       "      <td>1</td>\n",
       "    </tr>\n",
       "    <tr>\n",
       "      <th>...</th>\n",
       "      <td>...</td>\n",
       "      <td>...</td>\n",
       "      <td>...</td>\n",
       "      <td>...</td>\n",
       "      <td>...</td>\n",
       "      <td>...</td>\n",
       "      <td>...</td>\n",
       "      <td>...</td>\n",
       "    </tr>\n",
       "    <tr>\n",
       "      <th>1888</th>\n",
       "      <td>z969</td>\n",
       "      <td>Naftisol</td>\n",
       "      <td>Male</td>\n",
       "      <td>9</td>\n",
       "      <td>30</td>\n",
       "      <td>25</td>\n",
       "      <td>63.145652</td>\n",
       "      <td>2</td>\n",
       "    </tr>\n",
       "    <tr>\n",
       "      <th>1889</th>\n",
       "      <td>z969</td>\n",
       "      <td>Naftisol</td>\n",
       "      <td>Male</td>\n",
       "      <td>9</td>\n",
       "      <td>30</td>\n",
       "      <td>30</td>\n",
       "      <td>65.841013</td>\n",
       "      <td>3</td>\n",
       "    </tr>\n",
       "    <tr>\n",
       "      <th>1890</th>\n",
       "      <td>z969</td>\n",
       "      <td>Naftisol</td>\n",
       "      <td>Male</td>\n",
       "      <td>9</td>\n",
       "      <td>30</td>\n",
       "      <td>35</td>\n",
       "      <td>69.176246</td>\n",
       "      <td>4</td>\n",
       "    </tr>\n",
       "    <tr>\n",
       "      <th>1891</th>\n",
       "      <td>z969</td>\n",
       "      <td>Naftisol</td>\n",
       "      <td>Male</td>\n",
       "      <td>9</td>\n",
       "      <td>30</td>\n",
       "      <td>40</td>\n",
       "      <td>70.314904</td>\n",
       "      <td>4</td>\n",
       "    </tr>\n",
       "    <tr>\n",
       "      <th>1892</th>\n",
       "      <td>z969</td>\n",
       "      <td>Naftisol</td>\n",
       "      <td>Male</td>\n",
       "      <td>9</td>\n",
       "      <td>30</td>\n",
       "      <td>45</td>\n",
       "      <td>73.867845</td>\n",
       "      <td>4</td>\n",
       "    </tr>\n",
       "  </tbody>\n",
       "</table>\n",
       "<p>1893 rows × 8 columns</p>\n",
       "</div>"
      ],
      "text/plain": [
       "     Mouse ID Drug Regimen   Sex  Age_months  Weight (g)  Timepoint  \\\n",
       "0        k403     Ramicane  Male          21          16          0   \n",
       "1        k403     Ramicane  Male          21          16          5   \n",
       "2        k403     Ramicane  Male          21          16         10   \n",
       "3        k403     Ramicane  Male          21          16         15   \n",
       "4        k403     Ramicane  Male          21          16         20   \n",
       "...       ...          ...   ...         ...         ...        ...   \n",
       "1888     z969     Naftisol  Male           9          30         25   \n",
       "1889     z969     Naftisol  Male           9          30         30   \n",
       "1890     z969     Naftisol  Male           9          30         35   \n",
       "1891     z969     Naftisol  Male           9          30         40   \n",
       "1892     z969     Naftisol  Male           9          30         45   \n",
       "\n",
       "      Tumor Volume (mm3)  Metastatic Sites  \n",
       "0              45.000000                 0  \n",
       "1              38.825898                 0  \n",
       "2              35.014271                 1  \n",
       "3              34.223992                 1  \n",
       "4              32.997729                 1  \n",
       "...                  ...               ...  \n",
       "1888           63.145652                 2  \n",
       "1889           65.841013                 3  \n",
       "1890           69.176246                 4  \n",
       "1891           70.314904                 4  \n",
       "1892           73.867845                 4  \n",
       "\n",
       "[1893 rows x 8 columns]"
      ]
     },
     "execution_count": 253,
     "metadata": {},
     "output_type": "execute_result"
    }
   ],
   "source": [
    "# Dependencies and Setup\n",
    "import matplotlib.pyplot as plt\n",
    "import pandas as pd\n",
    "import scipy.stats as st\n",
    "import numpy as np\n",
    "\n",
    "# Study data files\n",
    "mouse_metadata = \"Mouse_metadata.csv\"\n",
    "study_results = \"Study_results.csv\"\n",
    "\n",
    "# Read the mouse data and the study results\n",
    "mouse_metadata = pd.read_csv(mouse_metadata)\n",
    "study_results = pd.read_csv(study_results)\n",
    "\n",
    "# Combine the data into a single dataset\n",
    "joined_data = pd.merge(mouse_metadata, study_results, on=\"Mouse ID\", how='outer')\n",
    "\n",
    "joined_data"
   ]
  },
  {
   "cell_type": "markdown",
   "metadata": {},
   "source": [
    "## Dependencies and starter code"
   ]
  },
  {
   "cell_type": "markdown",
   "metadata": {},
   "source": [
    "## Summary statistics"
   ]
  },
  {
   "cell_type": "code",
   "execution_count": 254,
   "metadata": {},
   "outputs": [
    {
     "data": {
      "text/html": [
       "<div>\n",
       "<style scoped>\n",
       "    .dataframe tbody tr th:only-of-type {\n",
       "        vertical-align: middle;\n",
       "    }\n",
       "\n",
       "    .dataframe tbody tr th {\n",
       "        vertical-align: top;\n",
       "    }\n",
       "\n",
       "    .dataframe thead th {\n",
       "        text-align: right;\n",
       "    }\n",
       "</style>\n",
       "<table border=\"1\" class=\"dataframe\">\n",
       "  <thead>\n",
       "    <tr style=\"text-align: right;\">\n",
       "      <th></th>\n",
       "      <th>Tumor Volume Mean</th>\n",
       "      <th>Tumor Volume Median</th>\n",
       "      <th>Tumor Volume Variance</th>\n",
       "      <th>Tumor Volume Standard Dev.</th>\n",
       "      <th>Tumor Volume Standard Error of the Mean</th>\n",
       "    </tr>\n",
       "    <tr>\n",
       "      <th>Drug Regimen</th>\n",
       "      <th></th>\n",
       "      <th></th>\n",
       "      <th></th>\n",
       "      <th></th>\n",
       "      <th></th>\n",
       "    </tr>\n",
       "  </thead>\n",
       "  <tbody>\n",
       "    <tr>\n",
       "      <th>Capomulin</th>\n",
       "      <td>40.675741</td>\n",
       "      <td>41.557809</td>\n",
       "      <td>24.947764</td>\n",
       "      <td>4.994774</td>\n",
       "      <td>0.329346</td>\n",
       "    </tr>\n",
       "    <tr>\n",
       "      <th>Ceftamin</th>\n",
       "      <td>52.591172</td>\n",
       "      <td>51.776157</td>\n",
       "      <td>39.290177</td>\n",
       "      <td>6.268188</td>\n",
       "      <td>0.469821</td>\n",
       "    </tr>\n",
       "    <tr>\n",
       "      <th>Infubinol</th>\n",
       "      <td>52.884795</td>\n",
       "      <td>51.820584</td>\n",
       "      <td>43.128684</td>\n",
       "      <td>6.567243</td>\n",
       "      <td>0.492236</td>\n",
       "    </tr>\n",
       "    <tr>\n",
       "      <th>Ketapril</th>\n",
       "      <td>55.235638</td>\n",
       "      <td>53.698743</td>\n",
       "      <td>68.553577</td>\n",
       "      <td>8.279709</td>\n",
       "      <td>0.603860</td>\n",
       "    </tr>\n",
       "    <tr>\n",
       "      <th>Naftisol</th>\n",
       "      <td>54.331565</td>\n",
       "      <td>52.509285</td>\n",
       "      <td>66.173479</td>\n",
       "      <td>8.134708</td>\n",
       "      <td>0.596466</td>\n",
       "    </tr>\n",
       "    <tr>\n",
       "      <th>Placebo</th>\n",
       "      <td>54.033581</td>\n",
       "      <td>52.288934</td>\n",
       "      <td>61.168083</td>\n",
       "      <td>7.821003</td>\n",
       "      <td>0.581331</td>\n",
       "    </tr>\n",
       "    <tr>\n",
       "      <th>Propriva</th>\n",
       "      <td>52.322552</td>\n",
       "      <td>50.854632</td>\n",
       "      <td>42.351070</td>\n",
       "      <td>6.507770</td>\n",
       "      <td>0.512884</td>\n",
       "    </tr>\n",
       "    <tr>\n",
       "      <th>Ramicane</th>\n",
       "      <td>40.216745</td>\n",
       "      <td>40.673236</td>\n",
       "      <td>23.486704</td>\n",
       "      <td>4.846308</td>\n",
       "      <td>0.320955</td>\n",
       "    </tr>\n",
       "    <tr>\n",
       "      <th>Stelasyn</th>\n",
       "      <td>54.233149</td>\n",
       "      <td>52.431737</td>\n",
       "      <td>59.450562</td>\n",
       "      <td>7.710419</td>\n",
       "      <td>0.573111</td>\n",
       "    </tr>\n",
       "    <tr>\n",
       "      <th>Zoniferol</th>\n",
       "      <td>53.236507</td>\n",
       "      <td>51.818479</td>\n",
       "      <td>48.533355</td>\n",
       "      <td>6.966589</td>\n",
       "      <td>0.516398</td>\n",
       "    </tr>\n",
       "  </tbody>\n",
       "</table>\n",
       "</div>"
      ],
      "text/plain": [
       "              Tumor Volume Mean  Tumor Volume Median  Tumor Volume Variance  \\\n",
       "Drug Regimen                                                                  \n",
       "Capomulin             40.675741            41.557809              24.947764   \n",
       "Ceftamin              52.591172            51.776157              39.290177   \n",
       "Infubinol             52.884795            51.820584              43.128684   \n",
       "Ketapril              55.235638            53.698743              68.553577   \n",
       "Naftisol              54.331565            52.509285              66.173479   \n",
       "Placebo               54.033581            52.288934              61.168083   \n",
       "Propriva              52.322552            50.854632              42.351070   \n",
       "Ramicane              40.216745            40.673236              23.486704   \n",
       "Stelasyn              54.233149            52.431737              59.450562   \n",
       "Zoniferol             53.236507            51.818479              48.533355   \n",
       "\n",
       "              Tumor Volume Standard Dev.  \\\n",
       "Drug Regimen                               \n",
       "Capomulin                       4.994774   \n",
       "Ceftamin                        6.268188   \n",
       "Infubinol                       6.567243   \n",
       "Ketapril                        8.279709   \n",
       "Naftisol                        8.134708   \n",
       "Placebo                         7.821003   \n",
       "Propriva                        6.507770   \n",
       "Ramicane                        4.846308   \n",
       "Stelasyn                        7.710419   \n",
       "Zoniferol                       6.966589   \n",
       "\n",
       "              Tumor Volume Standard Error of the Mean  \n",
       "Drug Regimen                                           \n",
       "Capomulin                                    0.329346  \n",
       "Ceftamin                                     0.469821  \n",
       "Infubinol                                    0.492236  \n",
       "Ketapril                                     0.603860  \n",
       "Naftisol                                     0.596466  \n",
       "Placebo                                      0.581331  \n",
       "Propriva                                     0.512884  \n",
       "Ramicane                                     0.320955  \n",
       "Stelasyn                                     0.573111  \n",
       "Zoniferol                                    0.516398  "
      ]
     },
     "execution_count": 254,
     "metadata": {},
     "output_type": "execute_result"
    }
   ],
   "source": [
    "#Generate a summary statistics table of mean, median, variance, standard deviation, and SEM of the tumor volume for each regimen\n",
    "\n",
    "#Reduce data to relevant columns, group by drug regimen\n",
    "reduced_data = joined_data[['Drug Regimen', 'Tumor Volume (mm3)']]\n",
    "grouped_by_drug = reduced_data.groupby([\"Drug Regimen\"])\n",
    "\n",
    "#Calculate summary stats\n",
    "tumor_volume_mean = grouped_by_drug[\"Tumor Volume (mm3)\"].mean()\n",
    "tumor_volume_median = grouped_by_drug[\"Tumor Volume (mm3)\"].median()\n",
    "tumor_volume_variance = grouped_by_drug[\"Tumor Volume (mm3)\"].var()\n",
    "tumor_volume_stdev = grouped_by_drug[\"Tumor Volume (mm3)\"].std()\n",
    "tumor_volume_sem = grouped_by_drug[\"Tumor Volume (mm3)\"].sem()\n",
    "\n",
    "summary_stats_table = pd.DataFrame({\"Tumor Volume Mean\": tumor_volume_mean, \"Tumor Volume Median\": tumor_volume_median, \"Tumor Volume Variance\": tumor_volume_variance, \"Tumor Volume Standard Dev.\": tumor_volume_stdev, \"Tumor Volume Standard Error of the Mean\": tumor_volume_sem})\n",
    "\n",
    "summary_stats_table"
   ]
  },
  {
   "cell_type": "markdown",
   "metadata": {},
   "source": [
    "## Bar plots"
   ]
  },
  {
   "cell_type": "code",
   "execution_count": 255,
   "metadata": {},
   "outputs": [
    {
     "data": {
      "text/plain": [
       "<matplotlib.axes._subplots.AxesSubplot at 0x1a26467f98>"
      ]
     },
     "execution_count": 255,
     "metadata": {},
     "output_type": "execute_result"
    },
    {
     "data": {
      "image/png": "[encoded data removed]",
      "text/plain": [
       "<Figure size 432x288 with 1 Axes>"
      ]
     },
     "metadata": {
      "needs_background": "light"
     },
     "output_type": "display_data"
    }
   ],
   "source": [
    "# Generate a bar plot showing number of data points for each treatment regimen using pandas\n",
    "counts_per_drug = grouped_by_drug['Drug Regimen'].count()\n",
    "drug_counts_df = pd.DataFrame({\"Counts per Drug\": counts_per_drug})\n",
    "drug_counts_df.plot.bar(y = \"Counts per Drug\")"
   ]
  },
  {
   "cell_type": "markdown",
   "metadata": {},
   "source": [
    "## Pie plots"
   ]
  },
  {
   "cell_type": "code",
   "execution_count": 256,
   "metadata": {},
   "outputs": [
    {
     "data": {
      "image/png": "[encoded data removed]",
      "text/plain": [
       "<Figure size 432x288 with 1 Axes>"
      ]
     },
     "metadata": {
      "needs_background": "light"
     },
     "output_type": "display_data"
    }
   ],
   "source": [
    "# Generate a bar plot showing number of data points for each treatment regimen using pyplot\n",
    "drug_options = joined_data[\"Drug Regimen\"].unique()\n",
    "y_pos = np.arange(len(drug_options))\n",
    "\n",
    "plt.bar(y_pos, counts_per_drug, color=\"b\", align=\"center\")\n",
    "plt.xticks(y_pos, drug_options, rotation=70)\n",
    "plt.ylabel('Data Points')\n",
    "plt.title('Number of Data Points for Each Treatment')\n",
    "\n",
    "plt.show()"
   ]
  },
  {
   "cell_type": "code",
   "execution_count": 257,
   "metadata": {},
   "outputs": [
    {
     "data": {
      "text/plain": [
       "<matplotlib.axes._subplots.AxesSubplot at 0x1a2567d588>"
      ]
     },
     "execution_count": 257,
     "metadata": {},
     "output_type": "execute_result"
    },
    {
     "data": {
      "image/png": "[encoded data removed]",
      "text/plain": [
       "<Figure size 360x360 with 1 Axes>"
      ]
     },
     "metadata": {},
     "output_type": "display_data"
    }
   ],
   "source": [
    "# Generate a pie plot showing the distribution of female versus male mice using pandas\n",
    "\n",
    "grouped_by_sex = joined_data.groupby([\"Sex\"])\n",
    "counts_per_sex = grouped_by_sex['Sex'].count()\n",
    "\n",
    "sex_df = pd.DataFrame({\"Counts Per Sex\": counts_per_sex})\n",
    "sex_df.plot.pie(y='Counts Per Sex', figsize=(5, 5))"
   ]
  },
  {
   "cell_type": "code",
   "execution_count": 258,
   "metadata": {},
   "outputs": [
    {
     "data": {
      "text/plain": [
       "([<matplotlib.patches.Wedge at 0x1a26337400>,\n",
       "  <matplotlib.patches.Wedge at 0x1a26337d68>],\n",
       " [Text(-0.7887477729166416, -0.904365496201087, 'Male'),\n",
       "  Text(0.723018791840255, 0.8290017048509963, 'Female')],\n",
       " [Text(-0.4601028675347076, -0.527546539450634, '49.4%'),\n",
       "  Text(0.39437388645832083, 0.4521827481005434, '50.6%')])"
      ]
     },
     "execution_count": 258,
     "metadata": {},
     "output_type": "execute_result"
    },
    {
     "data": {
      "image/png": "[encoded data removed]",
      "text/plain": [
       "<Figure size 432x288 with 1 Axes>"
      ]
     },
     "metadata": {},
     "output_type": "display_data"
    }
   ],
   "source": [
    "# Generate a pie plot showing the distribution of female versus male mice using pyplot\n",
    "\n",
    "# Labels for the sections of our pie chart\n",
    "labels = [\"Male\", \"Female\"]\n",
    "\n",
    "# The colors of each section of the pie chart\n",
    "colors = [\"blue\", \"orange\"]\n",
    "\n",
    "# Tells matplotlib to seperate the \"Humans\" section from the others\n",
    "explode = (0.1, 0)\n",
    "\n",
    "plt.pie(counts_per_sex, explode=explode, labels=labels, colors=colors,\n",
    "        autopct=\"%1.1f%%\", shadow=True, startangle=140)"
   ]
  },
  {
   "cell_type": "markdown",
   "metadata": {},
   "source": [
    "## Quartiles, outliers and boxplots"
   ]
  },
  {
   "cell_type": "code",
   "execution_count": 261,
   "metadata": {},
   "outputs": [
    {
     "name": "stdout",
     "output_type": "stream",
     "text": [
      "Drug Regimen\n",
      "Ramicane     34.955595\n",
      "Capomulin    36.236114\n",
      "Ceftamin     64.132421\n",
      "Infubinol    65.755562\n",
      "Name: Tumor Volume (mm3), dtype: float64\n",
      "36.321345799999996 is a potential outlier for Infubinol\n"
     ]
    }
   ],
   "source": [
    "# Calculate the final tumor volume of each mouse across four of the most promising treatment regimens. \n",
    "# Calculate the IQR and quantitatively determine if there are any potential outliers.\n",
    "\n",
    "#Determine most promising 4 treatments\n",
    "final_timepoint_only = joined_data.loc[(joined_data[\"Timepoint\"] == 45)]\n",
    "final_by_drug = final_timepoint_only.groupby([\"Drug Regimen\"])\n",
    "mean_final_tumor_per_drug = final_by_drug['Tumor Volume (mm3)'].mean().sort_values(ascending=True).head(4)\n",
    "\n",
    "#Print 4 most promising treatments: Ramicane, Capomulin, Ceftamin, Infubinol\n",
    "print(mean_final_tumor_per_drug) \n",
    "\n",
    "#Isolate final tumor volume for all mice given Ramicane\n",
    "ramicane_only_df = joined_data.loc[(joined_data[\"Drug Regimen\"] == \"Ramicane\")]\n",
    "ramicane_grouped = ramicane_only_df.groupby([\"Mouse ID\", \"Drug Regimen\"])\n",
    "ramicane_full = ramicane_grouped[[\"Tumor Volume (mm3)\"]]\n",
    "ramicane_last = ramicane_full.last()\n",
    "ramicane_values = ramicane_last['Tumor Volume (mm3)']\n",
    "\n",
    "ramicane_quartiles = ramicane_values.quantile([.25,.5,.75])\n",
    "lowerq = ramicane_quartiles[0.25]\n",
    "upperq = ramicane_quartiles[0.75]\n",
    "iqr = upperq-lowerq\n",
    "lower_bound = lowerq - (1.5*iqr)\n",
    "upper_bound = upperq + (1.5*iqr)\n",
    "\n",
    "for x in ramicane_values:\n",
    "    if x > upper_bound or x < lower_bound:\n",
    "        print(f\"{x} is a potential outlier\")\n",
    "\n",
    "#Isolate final tumor volume for all mice given Capomulin\n",
    "capomulin_only_df = joined_data.loc[(joined_data[\"Drug Regimen\"] == \"Capomulin\")]\n",
    "capomulin_grouped = capomulin_only_df.groupby([\"Mouse ID\", \"Drug Regimen\"])\n",
    "capomulin_full = capomulin_grouped[[\"Tumor Volume (mm3)\"]]\n",
    "capomulin_last = capomulin_full.last()\n",
    "capomulin_values = capomulin_last['Tumor Volume (mm3)']\n",
    "capomulin_quartiles = capomulin_values.quantile([.25,.5,.75])\n",
    "lowerq = capomulin_quartiles[0.25]\n",
    "upperq = capomulin_quartiles[0.75]\n",
    "iqr = upperq-lowerq\n",
    "lower_bound = lowerq - (1.5*iqr)\n",
    "upper_bound = upperq + (1.5*iqr)\n",
    "\n",
    "for x in capomulin_values:\n",
    "    if x > upper_bound or x < lower_bound:\n",
    "        print(f\"{x} is a potential outlier\")\n",
    "\n",
    "#Isolate final tumor volume for all mice given Infubinol\n",
    "infubinol_only_df = joined_data.loc[(joined_data[\"Drug Regimen\"] == \"Infubinol\")]\n",
    "infubinol_grouped = infubinol_only_df.groupby([\"Mouse ID\", \"Drug Regimen\"])\n",
    "infubinol_full = infubinol_grouped[[\"Tumor Volume (mm3)\"]]\n",
    "infubinol_last = infubinol_full.last()\n",
    "infubinol_values = infubinol_last['Tumor Volume (mm3)']\n",
    "infubinol_quartiles = infubinol_values.quantile([.25,.5,.75])\n",
    "lowerq = infubinol_quartiles[0.25]\n",
    "upperq = infubinol_quartiles[0.75]\n",
    "iqr = upperq-lowerq\n",
    "lower_bound = lowerq - (1.5*iqr)\n",
    "upper_bound = upperq + (1.5*iqr)\n",
    "\n",
    "for x in infubinol_values:\n",
    "    if x > upper_bound or x < lower_bound:\n",
    "        print(f\"{x} is a potential outlier for Infubinol\")\n",
    "\n",
    "#Isolate final tumor volume for all mice given Ceftamin\n",
    "ceftamin_only_df = joined_data.loc[(joined_data[\"Drug Regimen\"] == \"Ceftamin\")]\n",
    "ceftamin_grouped = ceftamin_only_df.groupby([\"Mouse ID\", \"Drug Regimen\"])\n",
    "ceftamin_full = ceftamin_grouped[[\"Tumor Volume (mm3)\"]]\n",
    "ceftamin_last = ceftamin_full.last()\n",
    "ceftamin_values = ceftamin_last['Tumor Volume (mm3)']\n",
    "ceftamin_quartiles = infubinol_values.quantile([.25,.5,.75])\n",
    "lowerq = ceftamin_quartiles[0.25]\n",
    "upperq = ceftamin_quartiles[0.75]\n",
    "iqr = upperq-lowerq\n",
    "lower_bound = lowerq - (1.5*iqr)\n",
    "upper_bound = upperq + (1.5*iqr)\n",
    "\n",
    "for x in ceftamin_values:\n",
    "    if x > upper_bound or x < lower_bound:\n",
    "        print(f\"{x} is a potential outlier for Ceftamin\")\n"
   ]
  },
  {
   "cell_type": "code",
   "execution_count": 283,
   "metadata": {},
   "outputs": [
    {
     "data": {
      "image/png": "[encoded data removed]",
      "text/plain": [
       "<Figure size 432x288 with 1 Axes>"
      ]
     },
     "metadata": {
      "needs_background": "light"
     },
     "output_type": "display_data"
    }
   ],
   "source": [
    "# Generate a box plot of the final tumor volume of each mouse across four regimens of interest\n",
    "\n",
    "box_plot_data = [ramicane_values, capomulin_values, infubinol_values, ceftamin_values]\n",
    "labels = [\"Ramicane\" , \"Capomulin\" , \"Infubinol\" , \"Ceftamin\"]\n",
    "\n",
    "fig7, ax7 = plt.subplots()\n",
    "ax7.set_title('Final Tumor Volume Across 4 Regimens')\n",
    "ax7.boxplot(box_plot_data, labels = labels)\n",
    "plt.ylabel('Tumor volume')\n",
    "plt.show()"
   ]
  },
  {
   "cell_type": "markdown",
   "metadata": {},
   "source": [
    "## Line and scatter plots"
   ]
  },
  {
   "cell_type": "code",
   "execution_count": 190,
   "metadata": {},
   "outputs": [
    {
     "data": {
      "image/png": "[encoded data removed]",
      "text/plain": [
       "<Figure size 432x288 with 1 Axes>"
      ]
     },
     "metadata": {
      "needs_background": "light"
     },
     "output_type": "display_data"
    }
   ],
   "source": [
    "# Generate a line plot of time point versus tumor volume for a mouse treated with Capomulin\n",
    "\n",
    "capomulin_only_df = joined_data.loc[(joined_data[\"Drug Regimen\"] == \"Capomulin\")]\n",
    "mouse_s185 = capomulin_only_df.loc[(capomulin_only_df[\"Mouse ID\"] == \"s185\")]\n",
    "\n",
    "time = mouse_s185['Timepoint']\n",
    "tumor_volume = mouse_s185['Tumor Volume (mm3)']\n",
    "\n",
    "plt.plot(time, tumor_volume, color=\"red\", label=\"Danger Drop\")\n",
    "plt.title(\"Change in Tumor Volume Over Time for Mouse s185 Treated with Capomulin\")\n",
    "plt.xlabel(\"Timepoint\")\n",
    "plt.ylabel(\"Tumor Size\")\n",
    "plt.grid()\n",
    "plt.show()"
   ]
  },
  {
   "cell_type": "code",
   "execution_count": 262,
   "metadata": {},
   "outputs": [
    {
     "data": {
      "text/plain": [
       "Text(0, 0.5, 'Average Tumor Size')"
      ]
     },
     "execution_count": 262,
     "metadata": {},
     "output_type": "execute_result"
    },
    {
     "data": {
      "image/png": "[encoded data removed]",
      "text/plain": [
       "<Figure size 432x288 with 1 Axes>"
      ]
     },
     "metadata": {
      "needs_background": "light"
     },
     "output_type": "display_data"
    }
   ],
   "source": [
    "# Generate a scatter plot of mouse weight versus average tumor volume for the Capomulin regimen\n",
    "\n",
    "# List of values from 0 to 100 each value being 1 greater than the last\n",
    "individual_mice = capomulin_only_df.drop_duplicates([\"Mouse ID\"])\n",
    "mice = individual_mice.set_index(\"Mouse ID\")\n",
    "mouse_weights = mice.loc[:, \"Weight (g)\"].sort_index(ascending=True)\n",
    "mean_tumor_per_mouse = grouped_by_mouse['Tumor Volume (mm3)'].mean().sort_index(ascending=True)\n",
    "\n",
    "plt.scatter(mouse_weights, mean_tumor_per_mouse, marker=\"o\", facecolors=\"red\", edgecolors=\"black\", alpha=0.75)\n",
    "plt.title(\"Weight vs Average Tumor Size for Capomulin Regimen\")\n",
    "plt.xlabel(\"Weight\")\n",
    "plt.ylabel(\"Average Tumor Size\")"
   ]
  },
  {
   "cell_type": "code",
   "execution_count": 289,
   "metadata": {},
   "outputs": [
    {
     "name": "stdout",
     "output_type": "stream",
     "text": [
      "The r-squared is: 0.8419363424694718\n"
     ]
    },
    {
     "data": {
      "image/png": "[encoded data removed]",
      "text/plain": [
       "<Figure size 432x288 with 1 Axes>"
      ]
     },
     "metadata": {
      "needs_background": "light"
     },
     "output_type": "display_data"
    }
   ],
   "source": [
    "# Calculate the correlation coefficient and linear regression model for mouse weight and average tumor volume for the Capomulin regimen\n",
    "\n",
    "(slope, intercept, rvalue, pvalue, stderr) = st.linregress(mouse_weights, mean_tumor_per_mouse)\n",
    "regress_values = mouse_weights * slope + intercept\n",
    "line_eq = \"y = \" + str(round(slope,2)) + \"x + \" + str(round(intercept,2))\n",
    "plt.scatter(mouse_weights, mean_tumor_per_mouse)\n",
    "plt.plot(mouse_weights,regress_values,\"g-\")\n",
    "plt.annotate(line_eq,(19,36),fontsize=15,color=\"red\")\n",
    "plt.title(\"Weight vs Average Tumor Size for Capomulin Regimen\")\n",
    "plt.xlabel(\"Weight\")\n",
    "plt.ylabel(\"Average Tumor Size\")\n",
    "print(f\"The r-squared is: {rvalue}\")\n",
    "plt.show()"
   ]
  },
  {
   "cell_type": "code",
   "execution_count": null,
   "metadata": {},
   "outputs": [],
   "source": []
  }
 ],
 "metadata": {
  "anaconda-cloud": {},
  "kernelspec": {
   "display_name": "Python [conda env:PythonData]",
   "language": "python",
   "name": "conda-env-PythonData-py"
  },
  "language_info": {
   "codemirror_mode": {
    "name": "ipython",
    "version": 3
   },
   "file_extension": ".py",
   "mimetype": "text/x-python",
   "name": "python",
   "nbconvert_exporter": "python",
   "pygments_lexer": "ipython3",
   "version": "3.6.10"
  }
 },
 "nbformat": 4,
 "nbformat_minor": 2
}
